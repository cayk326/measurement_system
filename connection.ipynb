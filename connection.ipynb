{
 "cells": [
  {
   "cell_type": "code",
   "execution_count": 1,
   "id": "728b7232",
   "metadata": {},
   "outputs": [],
   "source": [
    "import obd"
   ]
  },
  {
   "cell_type": "code",
   "execution_count": 3,
   "id": "e9287d04",
   "metadata": {},
   "outputs": [
    {
     "name": "stderr",
     "output_type": "stream",
     "text": [
      "[obd.obd] No OBD-II adapters found\n",
      "[obd.obd] Cannot load commands: No connection to car\n"
     ]
    }
   ],
   "source": [
    "connection = obd.OBD() # auto-connects to USB or RF port\n"
   ]
  },
  {
   "cell_type": "code",
   "execution_count": 5,
   "id": "58e8f742",
   "metadata": {},
   "outputs": [
    {
     "data": {
      "text/plain": [
       "'Not Connected'"
      ]
     },
     "execution_count": 5,
     "metadata": {},
     "output_type": "execute_result"
    }
   ],
   "source": [
    "connection.status()"
   ]
  },
  {
   "cell_type": "code",
   "execution_count": 4,
   "id": "42cbf796",
   "metadata": {},
   "outputs": [],
   "source": [
    "cmd = obd.commands.SPEED # select an OBD command (sensor)"
   ]
  },
  {
   "cell_type": "code",
   "execution_count": null,
   "id": "e462f118",
   "metadata": {},
   "outputs": [],
   "source": []
  }
 ],
 "metadata": {
  "kernelspec": {
   "display_name": "Python 3",
   "language": "python",
   "name": "python3"
  },
  "language_info": {
   "codemirror_mode": {
    "name": "ipython",
    "version": 3
   },
   "file_extension": ".py",
   "mimetype": "text/x-python",
   "name": "python",
   "nbconvert_exporter": "python",
   "pygments_lexer": "ipython3",
   "version": "3.6.9"
  }
 },
 "nbformat": 4,
 "nbformat_minor": 5
}
