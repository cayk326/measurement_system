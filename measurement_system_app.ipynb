{
 "cells": [
  {
   "cell_type": "markdown",
   "metadata": {},
   "source": [
    "## Simple Measurement System"
   ]
  },
  {
   "cell_type": "code",
   "execution_count": 6,
   "metadata": {},
   "outputs": [],
   "source": [
    "import threading\n",
    "import sys\n",
    "import time\n",
    "import numpy as np\n",
    "import pandas as pd\n",
    "import matplotlib.pyplot as plt\n",
    "from IPython.display import display, clear_output\n",
    "import ipywidgets as widgets\n",
    "import datetime\n",
    "from model import signalprocessing as sp\n",
    "from model.measurement import MeasBNO055\n",
    "from model.tools import wait_process"
   ]
  },
  {
   "cell_type": "code",
   "execution_count": 7,
   "metadata": {},
   "outputs": [],
   "source": [
    "class measurement_control:\n",
    "    def __init__(self, BNO_UPDATE_FREQUENCY_HZ = 10, Isautosave = True):\n",
    "        self.ctrlbutton_state = 'stop'# stop/start\n",
    "        self.ctrl_button = widgets.Button(description=\"▶\",layout=lay(120,50)) \n",
    "        self.save_button = widgets.Button(description=\"Save\",layout=lay(120,50))\n",
    "        self.calib_button = widgets.Button(description=\"Calib\",layout=lay(120,50))\n",
    "        \n",
    "        self.output = widgets.Output(layour={'border': '1px solid black'})       \n",
    "        self.measurement = MeasBNO055(BNO_UPDATE_FREQUENCY_HZ=BNO_UPDATE_FREQUENCY_HZ)\n",
    "        self.Isstart = False\n",
    "        self.start_thread = None\n",
    "        self.stop_thread = None\n",
    "        self.save_thread = None\n",
    "        self.calib_thread = None\n",
    "        self.buttonState = \"stop\"\n",
    "        self.elapsed_time = 0\n",
    "        self.itr_end_time = 0\n",
    "        self.logic_end_time = 0\n",
    "        self.logic_start_time = 0\n",
    "        self.itr_start_time = 0\n",
    "        self.Isautosave = Isautosave\n",
    "        \n",
    "    def start(self):\n",
    "        \n",
    "        self.Isstart = True\n",
    "        self.stop_thread = None\n",
    "        #print('Measurement Start')\n",
    "        self.ctrl_button.description = '■'\n",
    "        self.ctrl_button.button_style = 'success'\n",
    "        \n",
    "        \n",
    "        #Measurement main logic\n",
    "        try:\n",
    "            self.logic_start_time = time.time()#Logic start time\n",
    "            counter = 0# Clock\n",
    "\n",
    "            \n",
    "            while self.Isstart:\n",
    "                self.itr_start_time = time.time()# Start time of iteration loop\n",
    "                Time = counter / self.measurement.BNO_UPDATE_FREQUENCY_HZ# Current time\n",
    "                \n",
    "                #Time, euler_x, euler_y, euler_z, gyro_x, gyro_y, gyro_z, gravity_x, gravity_y, gravity_z,\\\n",
    "                #linear_accel_x, linear_accel_y, linear_accel_z, accel_x, accel_y, accel_z,\\\n",
    "                #quaternion_1, quaternion_2, quaternion_3, quaternion_4,\\\n",
    "                #calibstat_sys, calibstat_gyro, calibstat_accel, calibstat_mag]\n",
    "                                 \n",
    "                data = np.array([Time] + list(self.measurement.get_data(self.measurement.bno))).reshape(-1, len(self.measurement.COLUMNS))# Get data from sensor and merge time\n",
    "                \n",
    "                            \n",
    "                if counter == 0:\n",
    "                    \n",
    "                    self.measurement.assy_data = data.copy()\n",
    "\n",
    "                else: \n",
    "                    self.measurement.assy_data = np.concatenate((self.measurement.assy_data, data), axis = 0)# Concatenate data\n",
    "        \n",
    "                self.itr_end_time = time.time()# End time of iteration loop\n",
    "   \n",
    "                wait_process((1.0 / self.measurement.BNO_UPDATE_FREQUENCY_HZ) - (self.itr_end_time - self.itr_start_time))# For keeping sampling frequency\n",
    "                counter += 1\n",
    "\n",
    "            self.logic_end_time = time.time()\n",
    "            # Elapsed time\n",
    "            self.elapsed_time = self.logic_end_time - self.logic_start_time         \n",
    "            \n",
    "                            \n",
    "        except Exception as e:\n",
    "            self.logic_end_time = time.time()\n",
    "            #Elapsed time\n",
    "            elapsed_time = self.logic_end_time - self.logic_start_time\n",
    "            print('Error! Save data')\n",
    "            self.save()\n",
    "            return\n",
    "\n",
    "        \n",
    "    def stop(self):\n",
    "        self.Isstart = False\n",
    "        self.start_thread = None\n",
    "        try:\n",
    "            if meas_ctrl.Isautosave:\n",
    "                self.save()\n",
    "            self.ctrl_button.description = '▶'\n",
    "            self.ctrl_button.button_style = ''\n",
    "        except Exception as e:\n",
    "            print('Error!')\n",
    "        \n",
    "        return\n",
    "\n",
    "    def save(self):\n",
    "        try:\n",
    "            self.save_button.description = 'Saving...'\n",
    "            self.save_button.button_style = 'success'\n",
    "            self.measurement.assy_data = pd.DataFrame(self.measurement.assy_data, columns=list(self.measurement.COLUMNS))\n",
    "            self.measurement.assy_data_offset = self.measurement.assy_data.copy()\n",
    "            \n",
    "            \n",
    "            \n",
    "            t_delta = datetime.timedelta(hours=9)\n",
    "            JST = datetime.timezone(t_delta, 'JST')# You have to set your timezone\n",
    "            now = datetime.datetime.now(JST)\n",
    "            timestamp = now.strftime('%Y%m%d%H%M%S')\n",
    "            self.measurement.assy_data.to_csv(self.measurement.datapath + '/'+ timestamp +'_data.csv')\n",
    "            \n",
    "            self.offset(offset_len=10, offset_mode='median')\n",
    "            self.measurement.assy_data_offset.to_csv(self.measurement.datapath + '/'+ timestamp +'_offsetdata.csv')\n",
    "            \n",
    "            \n",
    "            self.measurement.assy_data_filter = self.measurement.assy_data_offset.copy()\n",
    "            labellist = self.measurement.assy_data_filter.columns\n",
    "            labellist = labellist.drop(['Time', 'calibstat_sys', 'calibstat_gyro', 'calibstat_accel','calibstat_mag'])\n",
    "            labellist = list(labellist)\n",
    "            self.measurement.assy_data_filter = self.filtering(self.measurement.assy_data_filter, samplerate=1/self.measurement.BNO_UPDATE_FREQUENCY_HZ, labellist=labellist, fpass=2, fstop=5, gpass=1, gstop=2)\n",
    "            self.measurement.assy_data_offset.to_csv(self.measurement.datapath + '/'+ timestamp +'_filterdata.csv')\n",
    "            \n",
    "            wait_process(0.5)# For user friendly\n",
    "            \n",
    "            self.save_button.description = 'Save'\n",
    "            self.save_button.button_style = ''\n",
    "            self.save_thread = None\n",
    "        except Exception:\n",
    "            pass\n",
    "\n",
    "    def get_calib_stat(self):\n",
    "        calibstat_sys, calibstat_gyro, calibstat_accel, calibstat_mag = [val for val in self.measurement.bno.calibration_status]\n",
    "        print(\"sys, gyro, accel, mag: {0}, {1}, {2}, {3}\".format(calibstat_sys, calibstat_gyro, calibstat_accel, calibstat_mag))\n",
    "\n",
    "        \n",
    "    def offset(self, offset_len=10, offset_mode='median'):\n",
    "        \n",
    "\n",
    "        offset = self.measurement.assy_data_offset.iloc[:offset_len,:]  \n",
    "        if offset_mode == 'median':\n",
    "            offset_val = offset.median(axis=0)        \n",
    "        elif offset_mode == 'mean':\n",
    "            offset_val = offset.mean(axis=0)\n",
    "        else:\n",
    "            print('Error')\n",
    "            exit\n",
    "        offset_val['Time'], offset_val['calibstat_sys'],offset_val['calibstat_gyro'], offset_val['calibstat_accel'], offset_val['calibstat_mag'] = 0,0,0,0,0\n",
    "        self.measurement.assy_data_offset = self.measurement.assy_data_offset - offset_val\n",
    "\n",
    "    def filtering(self, df, samplerate, labellist, fpass=8, fstop=10, gpass=3, gstop=10):\n",
    "        filtered_df = df.copy()\n",
    "        for idx, labelname in enumerate(labellist):\n",
    "            filtered_df[labelname] = sp.butterlowpass(x=df[labelname], \n",
    "                                                        fpass=fpass,\n",
    "                                                        fstop=fstop,\n",
    "                                                        gpass=gpass,\n",
    "                                                        gstop=gstop,\n",
    "                                                        fs=1 / samplerate,\n",
    "                                                        dt=samplerate,\n",
    "                                                        checkflag=False,\n",
    "                                                        labelname=labelname)\n",
    "        return filtered_df\n",
    "        \n",
    "\n",
    "    def Run(self):\n",
    "        #@self.output.capture()\n",
    "        def on_click_ctrlbutton_callback(clicked_button: widgets.Button) -> None:\n",
    "            if self.ctrlbutton_state == 'stop':\n",
    "                if self.start_thread == None :\n",
    "                    self.ctrlbutton_state = 'start'\n",
    "                    self.start_thread = threading.Thread(target=self.start)\n",
    "                    self.start_thread.start()\n",
    "                \n",
    "            elif self.ctrlbutton_state == 'start':\n",
    "                if self.stop_thread == None :\n",
    "                    self.ctrlbutton_state = 'stop'\n",
    "                    self.stop_thread = threading.Thread(target=self.stop)\n",
    "                    self.stop_thread.start()\n",
    "                    \n",
    "        def on_click_savebutton_callback(clicked_button: widgets.Button) -> None:\n",
    "            if self.ctrlbutton_state == 'stop' and self.Isstart == False:\n",
    "                self.save_thread = threading.Thread(target=self.save)\n",
    "                self.save_thread.start()\n",
    "        \n",
    "        @self.output.capture()\n",
    "        def on_click_calibbutton_callback(clicked_button: widgets.Button) -> None:\n",
    "            if self.ctrlbutton_state == 'stop' and self.Isstart == False:\n",
    "                self.get_calib_stat()\n",
    "        \n",
    "            \n",
    "\n",
    "        self.calib_button.on_click(on_click_calibbutton_callback)\n",
    "        self.ctrl_button.on_click(on_click_ctrlbutton_callback)\n",
    "        self.save_button.on_click(on_click_savebutton_callback)\n",
    "\n",
    "        \n",
    "def lay(width,height):\n",
    "    return widgets.Layout(width=str(width)+\"px\",height=str(height)+\"px\")\n",
    "def init_meas_system():\n",
    "    meas_ctrl = measurement_control(BNO_UPDATE_FREQUENCY_HZ=50, Isautosave=False)\n",
    "    display(widgets.VBox([\n",
    "            widgets.HBox([meas_ctrl.ctrl_button, meas_ctrl.save_button, meas_ctrl.calib_button]), \n",
    "            meas_ctrl.output]))\n",
    "\n",
    "\n",
    "    return meas_ctrl\n",
    "def main_loop():\n",
    "    meas_ctrl = init_meas_system()\n",
    "    meas_ctrl.Run()\n",
    "    return meas_ctrl\n"
   ]
  },
  {
   "cell_type": "code",
   "execution_count": 8,
   "metadata": {},
   "outputs": [
    {
     "ename": "ValueError",
     "evalue": "No I2C device at address: 0x28",
     "output_type": "error",
     "traceback": [
      "\u001b[0;31m---------------------------------------------------------------------------\u001b[0m",
      "\u001b[0;31mOSError\u001b[0m                                   Traceback (most recent call last)",
      "\u001b[0;32m/usr/local/lib/python3.6/dist-packages/adafruit_circuitpython_busdevice-5.2.3-py3.6.egg/adafruit_bus_device/i2c_device.py\u001b[0m in \u001b[0;36m__probe_for_device\u001b[0;34m(self)\u001b[0m\n\u001b[1;32m    175\u001b[0m         \u001b[0;32mtry\u001b[0m\u001b[0;34m:\u001b[0m\u001b[0;34m\u001b[0m\u001b[0;34m\u001b[0m\u001b[0m\n\u001b[0;32m--> 176\u001b[0;31m             \u001b[0mself\u001b[0m\u001b[0;34m.\u001b[0m\u001b[0mi2c\u001b[0m\u001b[0;34m.\u001b[0m\u001b[0mwriteto\u001b[0m\u001b[0;34m(\u001b[0m\u001b[0mself\u001b[0m\u001b[0;34m.\u001b[0m\u001b[0mdevice_address\u001b[0m\u001b[0;34m,\u001b[0m \u001b[0;34mb\"\"\u001b[0m\u001b[0;34m)\u001b[0m\u001b[0;34m\u001b[0m\u001b[0;34m\u001b[0m\u001b[0m\n\u001b[0m\u001b[1;32m    177\u001b[0m         \u001b[0;32mexcept\u001b[0m \u001b[0mOSError\u001b[0m\u001b[0;34m:\u001b[0m\u001b[0;34m\u001b[0m\u001b[0;34m\u001b[0m\u001b[0m\n",
      "\u001b[0;32m/usr/local/lib/python3.6/dist-packages/Adafruit_Blinka-8.5.0-py3.6.egg/busio.py\u001b[0m in \u001b[0;36mwriteto\u001b[0;34m(self, address, buffer, start, end, stop)\u001b[0m\n\u001b[1;32m    174\u001b[0m             \u001b[0;32mreturn\u001b[0m \u001b[0mself\u001b[0m\u001b[0;34m.\u001b[0m\u001b[0m_i2c\u001b[0m\u001b[0;34m.\u001b[0m\u001b[0mwriteto\u001b[0m\u001b[0;34m(\u001b[0m\u001b[0maddress\u001b[0m\u001b[0;34m,\u001b[0m \u001b[0mmemoryview\u001b[0m\u001b[0;34m(\u001b[0m\u001b[0mbuffer\u001b[0m\u001b[0;34m)\u001b[0m\u001b[0;34m[\u001b[0m\u001b[0mstart\u001b[0m\u001b[0;34m:\u001b[0m\u001b[0mend\u001b[0m\u001b[0;34m]\u001b[0m\u001b[0;34m,\u001b[0m \u001b[0mstop\u001b[0m\u001b[0;34m=\u001b[0m\u001b[0mstop\u001b[0m\u001b[0;34m)\u001b[0m\u001b[0;34m\u001b[0m\u001b[0;34m\u001b[0m\u001b[0m\n\u001b[0;32m--> 175\u001b[0;31m         \u001b[0;32mreturn\u001b[0m \u001b[0mself\u001b[0m\u001b[0;34m.\u001b[0m\u001b[0m_i2c\u001b[0m\u001b[0;34m.\u001b[0m\u001b[0mwriteto\u001b[0m\u001b[0;34m(\u001b[0m\u001b[0maddress\u001b[0m\u001b[0;34m,\u001b[0m \u001b[0mbuffer\u001b[0m\u001b[0;34m,\u001b[0m \u001b[0mstop\u001b[0m\u001b[0;34m=\u001b[0m\u001b[0mstop\u001b[0m\u001b[0;34m)\u001b[0m\u001b[0;34m\u001b[0m\u001b[0;34m\u001b[0m\u001b[0m\n\u001b[0m\u001b[1;32m    176\u001b[0m \u001b[0;34m\u001b[0m\u001b[0m\n",
      "\u001b[0;32m/usr/local/lib/python3.6/dist-packages/Adafruit_Blinka-8.5.0-py3.6.egg/adafruit_blinka/microcontroller/generic_linux/i2c.py\u001b[0m in \u001b[0;36mwriteto\u001b[0;34m(self, address, buffer, start, end, stop)\u001b[0m\n\u001b[1;32m     51\u001b[0m             \u001b[0mend\u001b[0m \u001b[0;34m=\u001b[0m \u001b[0mlen\u001b[0m\u001b[0;34m(\u001b[0m\u001b[0mbuffer\u001b[0m\u001b[0;34m)\u001b[0m\u001b[0;34m\u001b[0m\u001b[0;34m\u001b[0m\u001b[0m\n\u001b[0;32m---> 52\u001b[0;31m         \u001b[0mself\u001b[0m\u001b[0;34m.\u001b[0m\u001b[0m_i2c_bus\u001b[0m\u001b[0;34m.\u001b[0m\u001b[0mwrite_bytes\u001b[0m\u001b[0;34m(\u001b[0m\u001b[0maddress\u001b[0m\u001b[0;34m,\u001b[0m \u001b[0mbuffer\u001b[0m\u001b[0;34m[\u001b[0m\u001b[0mstart\u001b[0m\u001b[0;34m:\u001b[0m\u001b[0mend\u001b[0m\u001b[0;34m]\u001b[0m\u001b[0;34m)\u001b[0m\u001b[0;34m\u001b[0m\u001b[0;34m\u001b[0m\u001b[0m\n\u001b[0m\u001b[1;32m     53\u001b[0m \u001b[0;34m\u001b[0m\u001b[0m\n",
      "\u001b[0;32m/usr/local/lib/python3.6/dist-packages/Adafruit_PureIO-1.1.9-py3.6.egg/Adafruit_PureIO/smbus.py\u001b[0m in \u001b[0;36mwrite_bytes\u001b[0;34m(self, addr, buf)\u001b[0m\n\u001b[1;32m    313\u001b[0m         \u001b[0mself\u001b[0m\u001b[0;34m.\u001b[0m\u001b[0m_select_device\u001b[0m\u001b[0;34m(\u001b[0m\u001b[0maddr\u001b[0m\u001b[0;34m)\u001b[0m\u001b[0;34m\u001b[0m\u001b[0;34m\u001b[0m\u001b[0m\n\u001b[0;32m--> 314\u001b[0;31m         \u001b[0mself\u001b[0m\u001b[0;34m.\u001b[0m\u001b[0m_device\u001b[0m\u001b[0;34m.\u001b[0m\u001b[0mwrite\u001b[0m\u001b[0;34m(\u001b[0m\u001b[0mbuf\u001b[0m\u001b[0;34m)\u001b[0m\u001b[0;34m\u001b[0m\u001b[0;34m\u001b[0m\u001b[0m\n\u001b[0m\u001b[1;32m    315\u001b[0m \u001b[0;34m\u001b[0m\u001b[0m\n",
      "\u001b[0;31mOSError\u001b[0m: [Errno 121] Remote I/O error",
      "\nDuring handling of the above exception, another exception occurred:\n",
      "\u001b[0;31mOSError\u001b[0m                                   Traceback (most recent call last)",
      "\u001b[0;32m/usr/local/lib/python3.6/dist-packages/adafruit_circuitpython_busdevice-5.2.3-py3.6.egg/adafruit_bus_device/i2c_device.py\u001b[0m in \u001b[0;36m__probe_for_device\u001b[0;34m(self)\u001b[0m\n\u001b[1;32m    181\u001b[0m                 \u001b[0mresult\u001b[0m \u001b[0;34m=\u001b[0m \u001b[0mbytearray\u001b[0m\u001b[0;34m(\u001b[0m\u001b[0;36m1\u001b[0m\u001b[0;34m)\u001b[0m\u001b[0;34m\u001b[0m\u001b[0;34m\u001b[0m\u001b[0m\n\u001b[0;32m--> 182\u001b[0;31m                 \u001b[0mself\u001b[0m\u001b[0;34m.\u001b[0m\u001b[0mi2c\u001b[0m\u001b[0;34m.\u001b[0m\u001b[0mreadfrom_into\u001b[0m\u001b[0;34m(\u001b[0m\u001b[0mself\u001b[0m\u001b[0;34m.\u001b[0m\u001b[0mdevice_address\u001b[0m\u001b[0;34m,\u001b[0m \u001b[0mresult\u001b[0m\u001b[0;34m)\u001b[0m\u001b[0;34m\u001b[0m\u001b[0;34m\u001b[0m\u001b[0m\n\u001b[0m\u001b[1;32m    183\u001b[0m             \u001b[0;32mexcept\u001b[0m \u001b[0mOSError\u001b[0m\u001b[0;34m:\u001b[0m\u001b[0;34m\u001b[0m\u001b[0;34m\u001b[0m\u001b[0m\n",
      "\u001b[0;32m/usr/local/lib/python3.6/dist-packages/Adafruit_Blinka-8.5.0-py3.6.egg/busio.py\u001b[0m in \u001b[0;36mreadfrom_into\u001b[0;34m(self, address, buffer, start, end)\u001b[0m\n\u001b[1;32m    164\u001b[0m         \u001b[0mstop\u001b[0m \u001b[0;34m=\u001b[0m \u001b[0;32mTrue\u001b[0m  \u001b[0;31m# remove for efficiency later\u001b[0m\u001b[0;34m\u001b[0m\u001b[0;34m\u001b[0m\u001b[0m\n\u001b[0;32m--> 165\u001b[0;31m         \u001b[0;32mreturn\u001b[0m \u001b[0mself\u001b[0m\u001b[0;34m.\u001b[0m\u001b[0m_i2c\u001b[0m\u001b[0;34m.\u001b[0m\u001b[0mreadfrom_into\u001b[0m\u001b[0;34m(\u001b[0m\u001b[0maddress\u001b[0m\u001b[0;34m,\u001b[0m \u001b[0mbuffer\u001b[0m\u001b[0;34m,\u001b[0m \u001b[0mstop\u001b[0m\u001b[0;34m=\u001b[0m\u001b[0mstop\u001b[0m\u001b[0;34m)\u001b[0m\u001b[0;34m\u001b[0m\u001b[0;34m\u001b[0m\u001b[0m\n\u001b[0m\u001b[1;32m    166\u001b[0m \u001b[0;34m\u001b[0m\u001b[0m\n",
      "\u001b[0;32m/usr/local/lib/python3.6/dist-packages/Adafruit_Blinka-8.5.0-py3.6.egg/adafruit_blinka/microcontroller/generic_linux/i2c.py\u001b[0m in \u001b[0;36mreadfrom_into\u001b[0;34m(self, address, buffer, start, end, stop)\u001b[0m\n\u001b[1;32m     58\u001b[0m \u001b[0;34m\u001b[0m\u001b[0m\n\u001b[0;32m---> 59\u001b[0;31m         \u001b[0mreadin\u001b[0m \u001b[0;34m=\u001b[0m \u001b[0mself\u001b[0m\u001b[0;34m.\u001b[0m\u001b[0m_i2c_bus\u001b[0m\u001b[0;34m.\u001b[0m\u001b[0mread_bytes\u001b[0m\u001b[0;34m(\u001b[0m\u001b[0maddress\u001b[0m\u001b[0;34m,\u001b[0m \u001b[0mend\u001b[0m \u001b[0;34m-\u001b[0m \u001b[0mstart\u001b[0m\u001b[0;34m)\u001b[0m\u001b[0;34m\u001b[0m\u001b[0;34m\u001b[0m\u001b[0m\n\u001b[0m\u001b[1;32m     60\u001b[0m         \u001b[0;32mfor\u001b[0m \u001b[0mi\u001b[0m \u001b[0;32min\u001b[0m \u001b[0mrange\u001b[0m\u001b[0;34m(\u001b[0m\u001b[0mend\u001b[0m \u001b[0;34m-\u001b[0m \u001b[0mstart\u001b[0m\u001b[0;34m)\u001b[0m\u001b[0;34m:\u001b[0m\u001b[0;34m\u001b[0m\u001b[0;34m\u001b[0m\u001b[0m\n",
      "\u001b[0;32m/usr/local/lib/python3.6/dist-packages/Adafruit_PureIO-1.1.9-py3.6.egg/Adafruit_PureIO/smbus.py\u001b[0m in \u001b[0;36mread_bytes\u001b[0;34m(self, addr, number)\u001b[0m\n\u001b[1;32m    180\u001b[0m         \u001b[0mself\u001b[0m\u001b[0;34m.\u001b[0m\u001b[0m_select_device\u001b[0m\u001b[0;34m(\u001b[0m\u001b[0maddr\u001b[0m\u001b[0;34m)\u001b[0m\u001b[0;34m\u001b[0m\u001b[0;34m\u001b[0m\u001b[0m\n\u001b[0;32m--> 181\u001b[0;31m         \u001b[0;32mreturn\u001b[0m \u001b[0mself\u001b[0m\u001b[0;34m.\u001b[0m\u001b[0m_device\u001b[0m\u001b[0;34m.\u001b[0m\u001b[0mread\u001b[0m\u001b[0;34m(\u001b[0m\u001b[0mnumber\u001b[0m\u001b[0;34m)\u001b[0m\u001b[0;34m\u001b[0m\u001b[0;34m\u001b[0m\u001b[0m\n\u001b[0m\u001b[1;32m    182\u001b[0m \u001b[0;34m\u001b[0m\u001b[0m\n",
      "\u001b[0;31mOSError\u001b[0m: [Errno 121] Remote I/O error",
      "\nDuring handling of the above exception, another exception occurred:\n",
      "\u001b[0;31mValueError\u001b[0m                                Traceback (most recent call last)",
      "\u001b[0;32m<ipython-input-8-40c1aa424e4a>\u001b[0m in \u001b[0;36m<module>\u001b[0;34m\u001b[0m\n\u001b[0;32m----> 1\u001b[0;31m \u001b[0mmeas_ctrl\u001b[0m \u001b[0;34m=\u001b[0m \u001b[0mmain_loop\u001b[0m\u001b[0;34m(\u001b[0m\u001b[0;34m)\u001b[0m\u001b[0;34m\u001b[0m\u001b[0;34m\u001b[0m\u001b[0m\n\u001b[0m",
      "\u001b[0;32m<ipython-input-7-11827009d20a>\u001b[0m in \u001b[0;36mmain_loop\u001b[0;34m()\u001b[0m\n\u001b[1;32m    198\u001b[0m     \u001b[0;32mreturn\u001b[0m \u001b[0mmeas_ctrl\u001b[0m\u001b[0;34m\u001b[0m\u001b[0;34m\u001b[0m\u001b[0m\n\u001b[1;32m    199\u001b[0m \u001b[0;32mdef\u001b[0m \u001b[0mmain_loop\u001b[0m\u001b[0;34m(\u001b[0m\u001b[0;34m)\u001b[0m\u001b[0;34m:\u001b[0m\u001b[0;34m\u001b[0m\u001b[0;34m\u001b[0m\u001b[0m\n\u001b[0;32m--> 200\u001b[0;31m     \u001b[0mmeas_ctrl\u001b[0m \u001b[0;34m=\u001b[0m \u001b[0minit_meas_system\u001b[0m\u001b[0;34m(\u001b[0m\u001b[0;34m)\u001b[0m\u001b[0;34m\u001b[0m\u001b[0;34m\u001b[0m\u001b[0m\n\u001b[0m\u001b[1;32m    201\u001b[0m     \u001b[0mmeas_ctrl\u001b[0m\u001b[0;34m.\u001b[0m\u001b[0mRun\u001b[0m\u001b[0;34m(\u001b[0m\u001b[0;34m)\u001b[0m\u001b[0;34m\u001b[0m\u001b[0;34m\u001b[0m\u001b[0m\n\u001b[1;32m    202\u001b[0m     \u001b[0;32mreturn\u001b[0m \u001b[0mmeas_ctrl\u001b[0m\u001b[0;34m\u001b[0m\u001b[0;34m\u001b[0m\u001b[0m\n",
      "\u001b[0;32m<ipython-input-7-11827009d20a>\u001b[0m in \u001b[0;36minit_meas_system\u001b[0;34m()\u001b[0m\n\u001b[1;32m    190\u001b[0m     \u001b[0;32mreturn\u001b[0m \u001b[0mwidgets\u001b[0m\u001b[0;34m.\u001b[0m\u001b[0mLayout\u001b[0m\u001b[0;34m(\u001b[0m\u001b[0mwidth\u001b[0m\u001b[0;34m=\u001b[0m\u001b[0mstr\u001b[0m\u001b[0;34m(\u001b[0m\u001b[0mwidth\u001b[0m\u001b[0;34m)\u001b[0m\u001b[0;34m+\u001b[0m\u001b[0;34m\"px\"\u001b[0m\u001b[0;34m,\u001b[0m\u001b[0mheight\u001b[0m\u001b[0;34m=\u001b[0m\u001b[0mstr\u001b[0m\u001b[0;34m(\u001b[0m\u001b[0mheight\u001b[0m\u001b[0;34m)\u001b[0m\u001b[0;34m+\u001b[0m\u001b[0;34m\"px\"\u001b[0m\u001b[0;34m)\u001b[0m\u001b[0;34m\u001b[0m\u001b[0;34m\u001b[0m\u001b[0m\n\u001b[1;32m    191\u001b[0m \u001b[0;32mdef\u001b[0m \u001b[0minit_meas_system\u001b[0m\u001b[0;34m(\u001b[0m\u001b[0;34m)\u001b[0m\u001b[0;34m:\u001b[0m\u001b[0;34m\u001b[0m\u001b[0;34m\u001b[0m\u001b[0m\n\u001b[0;32m--> 192\u001b[0;31m     \u001b[0mmeas_ctrl\u001b[0m \u001b[0;34m=\u001b[0m \u001b[0mmeasurement_control\u001b[0m\u001b[0;34m(\u001b[0m\u001b[0mBNO_UPDATE_FREQUENCY_HZ\u001b[0m\u001b[0;34m=\u001b[0m\u001b[0;36m50\u001b[0m\u001b[0;34m,\u001b[0m \u001b[0mIsautosave\u001b[0m\u001b[0;34m=\u001b[0m\u001b[0;32mFalse\u001b[0m\u001b[0;34m)\u001b[0m\u001b[0;34m\u001b[0m\u001b[0;34m\u001b[0m\u001b[0m\n\u001b[0m\u001b[1;32m    193\u001b[0m     display(widgets.VBox([\n\u001b[1;32m    194\u001b[0m             \u001b[0mwidgets\u001b[0m\u001b[0;34m.\u001b[0m\u001b[0mHBox\u001b[0m\u001b[0;34m(\u001b[0m\u001b[0;34m[\u001b[0m\u001b[0mmeas_ctrl\u001b[0m\u001b[0;34m.\u001b[0m\u001b[0mctrl_button\u001b[0m\u001b[0;34m,\u001b[0m \u001b[0mmeas_ctrl\u001b[0m\u001b[0;34m.\u001b[0m\u001b[0msave_button\u001b[0m\u001b[0;34m,\u001b[0m \u001b[0mmeas_ctrl\u001b[0m\u001b[0;34m.\u001b[0m\u001b[0mcalib_button\u001b[0m\u001b[0;34m]\u001b[0m\u001b[0;34m)\u001b[0m\u001b[0;34m,\u001b[0m\u001b[0;34m\u001b[0m\u001b[0;34m\u001b[0m\u001b[0m\n",
      "\u001b[0;32m<ipython-input-7-11827009d20a>\u001b[0m in \u001b[0;36m__init__\u001b[0;34m(self, BNO_UPDATE_FREQUENCY_HZ, Isautosave)\u001b[0m\n\u001b[1;32m      7\u001b[0m \u001b[0;34m\u001b[0m\u001b[0m\n\u001b[1;32m      8\u001b[0m         \u001b[0mself\u001b[0m\u001b[0;34m.\u001b[0m\u001b[0moutput\u001b[0m \u001b[0;34m=\u001b[0m \u001b[0mwidgets\u001b[0m\u001b[0;34m.\u001b[0m\u001b[0mOutput\u001b[0m\u001b[0;34m(\u001b[0m\u001b[0mlayour\u001b[0m\u001b[0;34m=\u001b[0m\u001b[0;34m{\u001b[0m\u001b[0;34m'border'\u001b[0m\u001b[0;34m:\u001b[0m \u001b[0;34m'1px solid black'\u001b[0m\u001b[0;34m}\u001b[0m\u001b[0;34m)\u001b[0m\u001b[0;34m\u001b[0m\u001b[0;34m\u001b[0m\u001b[0m\n\u001b[0;32m----> 9\u001b[0;31m         \u001b[0mself\u001b[0m\u001b[0;34m.\u001b[0m\u001b[0mmeasurement\u001b[0m \u001b[0;34m=\u001b[0m \u001b[0mMeasBNO055\u001b[0m\u001b[0;34m(\u001b[0m\u001b[0mBNO_UPDATE_FREQUENCY_HZ\u001b[0m\u001b[0;34m=\u001b[0m\u001b[0mBNO_UPDATE_FREQUENCY_HZ\u001b[0m\u001b[0;34m)\u001b[0m\u001b[0;34m\u001b[0m\u001b[0;34m\u001b[0m\u001b[0m\n\u001b[0m\u001b[1;32m     10\u001b[0m         \u001b[0mself\u001b[0m\u001b[0;34m.\u001b[0m\u001b[0mIsstart\u001b[0m \u001b[0;34m=\u001b[0m \u001b[0;32mFalse\u001b[0m\u001b[0;34m\u001b[0m\u001b[0;34m\u001b[0m\u001b[0m\n\u001b[1;32m     11\u001b[0m         \u001b[0mself\u001b[0m\u001b[0;34m.\u001b[0m\u001b[0mstart_thread\u001b[0m \u001b[0;34m=\u001b[0m \u001b[0;32mNone\u001b[0m\u001b[0;34m\u001b[0m\u001b[0;34m\u001b[0m\u001b[0m\n",
      "\u001b[0;32m~/measurement_system/model/measurement.py\u001b[0m in \u001b[0;36m__init__\u001b[0;34m(self, BNO_UPDATE_FREQUENCY_HZ, INTERVAL)\u001b[0m\n\u001b[1;32m     44\u001b[0m         \u001b[0mself\u001b[0m\u001b[0;34m.\u001b[0m\u001b[0massy_data\u001b[0m \u001b[0;34m=\u001b[0m \u001b[0;32mNone\u001b[0m\u001b[0;34m\u001b[0m\u001b[0;34m\u001b[0m\u001b[0m\n\u001b[1;32m     45\u001b[0m \u001b[0;34m\u001b[0m\u001b[0m\n\u001b[0;32m---> 46\u001b[0;31m         \u001b[0mself\u001b[0m\u001b[0;34m.\u001b[0m\u001b[0mi2c\u001b[0m\u001b[0;34m,\u001b[0m \u001b[0mself\u001b[0m\u001b[0;34m.\u001b[0m\u001b[0mbno\u001b[0m \u001b[0;34m=\u001b[0m \u001b[0mself\u001b[0m\u001b[0;34m.\u001b[0m\u001b[0mconnect\u001b[0m\u001b[0;34m(\u001b[0m\u001b[0;34m)\u001b[0m\u001b[0;34m\u001b[0m\u001b[0;34m\u001b[0m\u001b[0m\n\u001b[0m\u001b[1;32m     47\u001b[0m \u001b[0;34m\u001b[0m\u001b[0m\n\u001b[1;32m     48\u001b[0m \u001b[0;34m\u001b[0m\u001b[0m\n",
      "\u001b[0;32m~/measurement_system/model/measurement.py\u001b[0m in \u001b[0;36mconnect\u001b[0;34m(self)\u001b[0m\n\u001b[1;32m     49\u001b[0m     \u001b[0;32mdef\u001b[0m \u001b[0mconnect\u001b[0m\u001b[0;34m(\u001b[0m\u001b[0mself\u001b[0m\u001b[0;34m)\u001b[0m\u001b[0;34m:\u001b[0m\u001b[0;34m\u001b[0m\u001b[0;34m\u001b[0m\u001b[0m\n\u001b[1;32m     50\u001b[0m         \u001b[0mi2c\u001b[0m \u001b[0;34m=\u001b[0m \u001b[0mbusio\u001b[0m\u001b[0;34m.\u001b[0m\u001b[0mI2C\u001b[0m\u001b[0;34m(\u001b[0m\u001b[0mboard\u001b[0m\u001b[0;34m.\u001b[0m\u001b[0mSCL\u001b[0m\u001b[0;34m,\u001b[0m \u001b[0mboard\u001b[0m\u001b[0;34m.\u001b[0m\u001b[0mSDA\u001b[0m\u001b[0;34m)\u001b[0m\u001b[0;31m# Access i2c using SCL and SDA\u001b[0m\u001b[0;34m\u001b[0m\u001b[0;34m\u001b[0m\u001b[0m\n\u001b[0;32m---> 51\u001b[0;31m         \u001b[0mbno\u001b[0m \u001b[0;34m=\u001b[0m \u001b[0madafruit_bno055\u001b[0m\u001b[0;34m.\u001b[0m\u001b[0mBNO055_I2C\u001b[0m\u001b[0;34m(\u001b[0m\u001b[0mi2c\u001b[0m\u001b[0;34m)\u001b[0m\u001b[0;31m# Connect BNO055. Default: NDOF_MODE(12)\u001b[0m\u001b[0;34m\u001b[0m\u001b[0;34m\u001b[0m\u001b[0m\n\u001b[0m\u001b[1;32m     52\u001b[0m         \u001b[0;31m#self.bno.use_external_crystal = True\u001b[0m\u001b[0;34m\u001b[0m\u001b[0;34m\u001b[0m\u001b[0;34m\u001b[0m\u001b[0m\n\u001b[1;32m     53\u001b[0m         \u001b[0mprint\u001b[0m\u001b[0;34m(\u001b[0m\u001b[0;34m\"Established connection with BNO055\"\u001b[0m\u001b[0;34m)\u001b[0m\u001b[0;34m\u001b[0m\u001b[0;34m\u001b[0m\u001b[0m\n",
      "\u001b[0;32m~/.local/lib/python3.6/site-packages/adafruit_bno055.py\u001b[0m in \u001b[0;36m__init__\u001b[0;34m(self, i2c, address)\u001b[0m\n\u001b[1;32m    774\u001b[0m     \u001b[0;32mdef\u001b[0m \u001b[0m__init__\u001b[0m\u001b[0;34m(\u001b[0m\u001b[0mself\u001b[0m\u001b[0;34m,\u001b[0m \u001b[0mi2c\u001b[0m\u001b[0;34m,\u001b[0m \u001b[0maddress\u001b[0m\u001b[0;34m=\u001b[0m\u001b[0;36m0x28\u001b[0m\u001b[0;34m)\u001b[0m\u001b[0;34m:\u001b[0m\u001b[0;34m\u001b[0m\u001b[0;34m\u001b[0m\u001b[0m\n\u001b[1;32m    775\u001b[0m         \u001b[0mself\u001b[0m\u001b[0;34m.\u001b[0m\u001b[0mbuffer\u001b[0m \u001b[0;34m=\u001b[0m \u001b[0mbytearray\u001b[0m\u001b[0;34m(\u001b[0m\u001b[0;36m2\u001b[0m\u001b[0;34m)\u001b[0m\u001b[0;34m\u001b[0m\u001b[0;34m\u001b[0m\u001b[0m\n\u001b[0;32m--> 776\u001b[0;31m         \u001b[0mself\u001b[0m\u001b[0;34m.\u001b[0m\u001b[0mi2c_device\u001b[0m \u001b[0;34m=\u001b[0m \u001b[0mI2CDevice\u001b[0m\u001b[0;34m(\u001b[0m\u001b[0mi2c\u001b[0m\u001b[0;34m,\u001b[0m \u001b[0maddress\u001b[0m\u001b[0;34m)\u001b[0m\u001b[0;34m\u001b[0m\u001b[0;34m\u001b[0m\u001b[0m\n\u001b[0m\u001b[1;32m    777\u001b[0m         \u001b[0msuper\u001b[0m\u001b[0;34m(\u001b[0m\u001b[0;34m)\u001b[0m\u001b[0;34m.\u001b[0m\u001b[0m__init__\u001b[0m\u001b[0;34m(\u001b[0m\u001b[0;34m)\u001b[0m\u001b[0;34m\u001b[0m\u001b[0;34m\u001b[0m\u001b[0m\n\u001b[1;32m    778\u001b[0m \u001b[0;34m\u001b[0m\u001b[0m\n",
      "\u001b[0;32m/usr/local/lib/python3.6/dist-packages/adafruit_circuitpython_busdevice-5.2.3-py3.6.egg/adafruit_bus_device/i2c_device.py\u001b[0m in \u001b[0;36m__init__\u001b[0;34m(self, i2c, device_address, probe)\u001b[0m\n\u001b[1;32m     61\u001b[0m \u001b[0;34m\u001b[0m\u001b[0m\n\u001b[1;32m     62\u001b[0m         \u001b[0;32mif\u001b[0m \u001b[0mprobe\u001b[0m\u001b[0;34m:\u001b[0m\u001b[0;34m\u001b[0m\u001b[0;34m\u001b[0m\u001b[0m\n\u001b[0;32m---> 63\u001b[0;31m             \u001b[0mself\u001b[0m\u001b[0;34m.\u001b[0m\u001b[0m__probe_for_device\u001b[0m\u001b[0;34m(\u001b[0m\u001b[0;34m)\u001b[0m\u001b[0;34m\u001b[0m\u001b[0;34m\u001b[0m\u001b[0m\n\u001b[0m\u001b[1;32m     64\u001b[0m \u001b[0;34m\u001b[0m\u001b[0m\n\u001b[1;32m     65\u001b[0m     def readinto(\n",
      "\u001b[0;32m/usr/local/lib/python3.6/dist-packages/adafruit_circuitpython_busdevice-5.2.3-py3.6.egg/adafruit_bus_device/i2c_device.py\u001b[0m in \u001b[0;36m__probe_for_device\u001b[0;34m(self)\u001b[0m\n\u001b[1;32m    183\u001b[0m             \u001b[0;32mexcept\u001b[0m \u001b[0mOSError\u001b[0m\u001b[0;34m:\u001b[0m\u001b[0;34m\u001b[0m\u001b[0;34m\u001b[0m\u001b[0m\n\u001b[1;32m    184\u001b[0m                 \u001b[0;31m# pylint: disable=raise-missing-from\u001b[0m\u001b[0;34m\u001b[0m\u001b[0;34m\u001b[0m\u001b[0;34m\u001b[0m\u001b[0m\n\u001b[0;32m--> 185\u001b[0;31m                 \u001b[0;32mraise\u001b[0m \u001b[0mValueError\u001b[0m\u001b[0;34m(\u001b[0m\u001b[0;34m\"No I2C device at address: 0x%x\"\u001b[0m \u001b[0;34m%\u001b[0m \u001b[0mself\u001b[0m\u001b[0;34m.\u001b[0m\u001b[0mdevice_address\u001b[0m\u001b[0;34m)\u001b[0m\u001b[0;34m\u001b[0m\u001b[0;34m\u001b[0m\u001b[0m\n\u001b[0m\u001b[1;32m    186\u001b[0m                 \u001b[0;31m# pylint: enable=raise-missing-from\u001b[0m\u001b[0;34m\u001b[0m\u001b[0;34m\u001b[0m\u001b[0;34m\u001b[0m\u001b[0m\n\u001b[1;32m    187\u001b[0m         \u001b[0;32mfinally\u001b[0m\u001b[0;34m:\u001b[0m\u001b[0;34m\u001b[0m\u001b[0;34m\u001b[0m\u001b[0m\n",
      "\u001b[0;31mValueError\u001b[0m: No I2C device at address: 0x28"
     ]
    }
   ],
   "source": [
    "meas_ctrl = main_loop()"
   ]
  },
  {
   "cell_type": "code",
   "execution_count": 4,
   "metadata": {},
   "outputs": [
    {
     "data": {
      "text/plain": [
       "9.910168867111206"
      ]
     },
     "execution_count": 4,
     "metadata": {},
     "output_type": "execute_result"
    }
   ],
   "source": [
    "#meas_ctrl.elapsed_time\n",
    "meas_ctrl.logic_end_time - meas_ctrl.logic_start_time - (1.0 / meas_ctrl.measurement.BNO_UPDATE_FREQUENCY_HZ)"
   ]
  },
  {
   "cell_type": "code",
   "execution_count": 8,
   "metadata": {},
   "outputs": [
    {
     "ename": "IndexError",
     "evalue": "only integers, slices (`:`), ellipsis (`...`), numpy.newaxis (`None`) and integer or boolean arrays are valid indices",
     "output_type": "error",
     "traceback": [
      "\u001b[0;31m---------------------------------------------------------------------------\u001b[0m",
      "\u001b[0;31mIndexError\u001b[0m                                Traceback (most recent call last)",
      "\u001b[0;32m<ipython-input-8-825f12ece5dc>\u001b[0m in \u001b[0;36m<module>\u001b[0;34m\u001b[0m\n\u001b[1;32m      1\u001b[0m \u001b[0mfig\u001b[0m\u001b[0;34m,\u001b[0m \u001b[0max\u001b[0m \u001b[0;34m=\u001b[0m \u001b[0mplt\u001b[0m\u001b[0;34m.\u001b[0m\u001b[0msubplots\u001b[0m\u001b[0;34m(\u001b[0m\u001b[0;36m3\u001b[0m\u001b[0;34m,\u001b[0m \u001b[0;36m3\u001b[0m\u001b[0;34m,\u001b[0m \u001b[0mfigsize\u001b[0m\u001b[0;34m=\u001b[0m\u001b[0;34m(\u001b[0m\u001b[0;36m12\u001b[0m\u001b[0;34m,\u001b[0m\u001b[0;36m8\u001b[0m\u001b[0;34m)\u001b[0m\u001b[0;34m,\u001b[0m \u001b[0mtight_layout\u001b[0m\u001b[0;34m=\u001b[0m\u001b[0;32mTrue\u001b[0m\u001b[0;34m)\u001b[0m\u001b[0;34m\u001b[0m\u001b[0;34m\u001b[0m\u001b[0m\n\u001b[0;32m----> 2\u001b[0;31m \u001b[0max\u001b[0m\u001b[0;34m[\u001b[0m\u001b[0;36m0\u001b[0m\u001b[0;34m,\u001b[0m\u001b[0;36m0\u001b[0m\u001b[0;34m]\u001b[0m\u001b[0;34m.\u001b[0m\u001b[0mplot\u001b[0m\u001b[0;34m(\u001b[0m\u001b[0mmeas_ctrl\u001b[0m\u001b[0;34m.\u001b[0m\u001b[0mmeasurement\u001b[0m\u001b[0;34m.\u001b[0m\u001b[0massy_data\u001b[0m\u001b[0;34m[\u001b[0m\u001b[0;34m'Time'\u001b[0m\u001b[0;34m]\u001b[0m\u001b[0;34m,\u001b[0m \u001b[0mmeas_ctrl\u001b[0m\u001b[0;34m.\u001b[0m\u001b[0mmeasurement\u001b[0m\u001b[0;34m.\u001b[0m\u001b[0massy_data\u001b[0m\u001b[0;34m[\u001b[0m\u001b[0;34m'gyro_x'\u001b[0m\u001b[0;34m]\u001b[0m\u001b[0;34m,\u001b[0m \u001b[0mmarker\u001b[0m\u001b[0;34m=\u001b[0m\u001b[0;34m'*'\u001b[0m\u001b[0;34m)\u001b[0m\u001b[0;34m\u001b[0m\u001b[0;34m\u001b[0m\u001b[0m\n\u001b[0m\u001b[1;32m      3\u001b[0m \u001b[0max\u001b[0m\u001b[0;34m[\u001b[0m\u001b[0;36m0\u001b[0m\u001b[0;34m,\u001b[0m\u001b[0;36m0\u001b[0m\u001b[0;34m]\u001b[0m\u001b[0;34m.\u001b[0m\u001b[0mset_xlabel\u001b[0m\u001b[0;34m(\u001b[0m\u001b[0;34m'Time[s]'\u001b[0m\u001b[0;34m)\u001b[0m\u001b[0;34m\u001b[0m\u001b[0;34m\u001b[0m\u001b[0m\n\u001b[1;32m      4\u001b[0m \u001b[0max\u001b[0m\u001b[0;34m[\u001b[0m\u001b[0;36m0\u001b[0m\u001b[0;34m,\u001b[0m\u001b[0;36m0\u001b[0m\u001b[0;34m]\u001b[0m\u001b[0;34m.\u001b[0m\u001b[0mset_ylabel\u001b[0m\u001b[0;34m(\u001b[0m\u001b[0;34m'Gyro_x(Roll Rate)[rad/s]'\u001b[0m\u001b[0;34m)\u001b[0m\u001b[0;34m\u001b[0m\u001b[0;34m\u001b[0m\u001b[0m\n\u001b[1;32m      5\u001b[0m \u001b[0max\u001b[0m\u001b[0;34m[\u001b[0m\u001b[0;36m0\u001b[0m\u001b[0;34m,\u001b[0m\u001b[0;36m1\u001b[0m\u001b[0;34m]\u001b[0m\u001b[0;34m.\u001b[0m\u001b[0mplot\u001b[0m\u001b[0;34m(\u001b[0m\u001b[0mmeas_ctrl\u001b[0m\u001b[0;34m.\u001b[0m\u001b[0mmeasurement\u001b[0m\u001b[0;34m.\u001b[0m\u001b[0massy_data\u001b[0m\u001b[0;34m[\u001b[0m\u001b[0;34m'Time'\u001b[0m\u001b[0;34m]\u001b[0m\u001b[0;34m,\u001b[0m \u001b[0mmeas_ctrl\u001b[0m\u001b[0;34m.\u001b[0m\u001b[0mmeasurement\u001b[0m\u001b[0;34m.\u001b[0m\u001b[0massy_data\u001b[0m\u001b[0;34m[\u001b[0m\u001b[0;34m'gyro_y'\u001b[0m\u001b[0;34m]\u001b[0m\u001b[0;34m,\u001b[0m \u001b[0mmarker\u001b[0m\u001b[0;34m=\u001b[0m\u001b[0;34m'*'\u001b[0m\u001b[0;34m)\u001b[0m\u001b[0;34m\u001b[0m\u001b[0;34m\u001b[0m\u001b[0m\n",
      "\u001b[0;31mIndexError\u001b[0m: only integers, slices (`:`), ellipsis (`...`), numpy.newaxis (`None`) and integer or boolean arrays are valid indices"
     ]
    },
    {
     "data": {
      "image/png": "[encoded data removed]",
      "text/plain": [
       "<matplotlib.figure.Figure at 0x7f6ee89080>"
      ]
     },
     "metadata": {
      "needs_background": "light"
     },
     "output_type": "display_data"
    }
   ],
   "source": [
    "fig, ax = plt.subplots(3, 3, figsize=(12,8), tight_layout=True)\n",
    "ax[0,0].plot(meas_ctrl.measurement.assy_data['Time'], meas_ctrl.measurement.assy_data['gyro_x'], marker='*')\n",
    "ax[0,0].set_xlabel('Time[s]')\n",
    "ax[0,0].set_ylabel('Gyro_x(Roll Rate)[rad/s]')\n",
    "ax[0,1].plot(meas_ctrl.measurement.assy_data['Time'], meas_ctrl.measurement.assy_data['gyro_y'], marker='*')\n",
    "ax[0,1].set_xlabel('Time[s]')\n",
    "ax[0,1].set_ylabel('Gyro_y(Pitch Rate)[rad/s]')\n",
    "ax[0,2].plot(meas_ctrl.measurement.assy_data['Time'], meas_ctrl.measurement.assy_data['gyro_z'], marker='*')\n",
    "ax[0,2].set_xlabel('Time[s]')\n",
    "ax[0,2].set_ylabel('Gyro_z(Yaw Rate)[rad/s]')\n",
    "ax[1,0].plot(meas_ctrl.measurement.assy_data['Time'], meas_ctrl.measurement.assy_data['linear_accel_x'], marker='*')\n",
    "ax[1,0].set_xlabel('Time[s]')\n",
    "ax[1,0].set_ylabel('linear_accel_x[m/s^2]')\n",
    "ax[1,1].plot(meas_ctrl.measurement.assy_data['Time'], meas_ctrl.measurement.assy_data['linear_accel_y'], marker='*')\n",
    "ax[1,1].set_xlabel('Time[s]')\n",
    "ax[1,1].set_ylabel('linear_accel_y[m/s^2]')\n",
    "ax[1,2].plot(meas_ctrl.measurement.assy_data['Time'], meas_ctrl.measurement.assy_data['linear_accel_z'], marker='*')\n",
    "ax[1,2].set_xlabel('Time[s]')\n",
    "ax[1,2].set_ylabel('linear_accel_z[m/s^2]')\n",
    "\n",
    "\n",
    "ax[2,0].plot(meas_ctrl.measurement.assy_data['Time'], meas_ctrl.measurement.assy_data['Roll'], marker='*', color='r')\n",
    "ax[2,0].set_xlabel('Time[s]')\n",
    "ax[2,0].set_ylabel('Roll Angle[deg]')\n",
    "\n",
    "ax[2,1].plot(meas_ctrl.measurement.assy_data['Time'], meas_ctrl.measurement.assy_data['Pitch'], marker='*',color='r')\n",
    "ax[2,1].set_xlabel('Time[s]')\n",
    "ax[2,1].set_ylabel('Pitch Angle[deg]')\n",
    "\n",
    "ax[2,2].plot(meas_ctrl.measurement.assy_data['Time'], meas_ctrl.measurement.assy_data['Yaw'], marker='*', color='r')\n",
    "ax[2,2].set_xlabel('Time[s]')\n",
    "ax[2,2].set_ylabel('Yaw Angle[deg]')\n"
   ]
  },
  {
   "cell_type": "code",
   "execution_count": 9,
   "metadata": {},
   "outputs": [
    {
     "ename": "IndexError",
     "evalue": "only integers, slices (`:`), ellipsis (`...`), numpy.newaxis (`None`) and integer or boolean arrays are valid indices",
     "output_type": "error",
     "traceback": [
      "\u001b[0;31m---------------------------------------------------------------------------\u001b[0m",
      "\u001b[0;31mIndexError\u001b[0m                                Traceback (most recent call last)",
      "\u001b[0;32m<ipython-input-9-fc362116ac0b>\u001b[0m in \u001b[0;36m<module>\u001b[0;34m\u001b[0m\n\u001b[1;32m      1\u001b[0m \u001b[0mfig\u001b[0m\u001b[0;34m,\u001b[0m \u001b[0max\u001b[0m \u001b[0;34m=\u001b[0m \u001b[0mplt\u001b[0m\u001b[0;34m.\u001b[0m\u001b[0msubplots\u001b[0m\u001b[0;34m(\u001b[0m\u001b[0;36m3\u001b[0m\u001b[0;34m,\u001b[0m \u001b[0;36m3\u001b[0m\u001b[0;34m,\u001b[0m \u001b[0mfigsize\u001b[0m\u001b[0;34m=\u001b[0m\u001b[0;34m(\u001b[0m\u001b[0;36m12\u001b[0m\u001b[0;34m,\u001b[0m\u001b[0;36m8\u001b[0m\u001b[0;34m)\u001b[0m\u001b[0;34m,\u001b[0m \u001b[0mtight_layout\u001b[0m\u001b[0;34m=\u001b[0m\u001b[0;32mTrue\u001b[0m\u001b[0;34m)\u001b[0m\u001b[0;34m\u001b[0m\u001b[0;34m\u001b[0m\u001b[0m\n\u001b[0;32m----> 2\u001b[0;31m \u001b[0max\u001b[0m\u001b[0;34m[\u001b[0m\u001b[0;36m0\u001b[0m\u001b[0;34m,\u001b[0m\u001b[0;36m0\u001b[0m\u001b[0;34m]\u001b[0m\u001b[0;34m.\u001b[0m\u001b[0mplot\u001b[0m\u001b[0;34m(\u001b[0m\u001b[0mmeas_ctrl\u001b[0m\u001b[0;34m.\u001b[0m\u001b[0mmeasurement\u001b[0m\u001b[0;34m.\u001b[0m\u001b[0massy_data\u001b[0m\u001b[0;34m[\u001b[0m\u001b[0;34m'Time'\u001b[0m\u001b[0;34m]\u001b[0m\u001b[0;34m,\u001b[0m \u001b[0mmeas_ctrl\u001b[0m\u001b[0;34m.\u001b[0m\u001b[0mmeasurement\u001b[0m\u001b[0;34m.\u001b[0m\u001b[0massy_data\u001b[0m\u001b[0;34m[\u001b[0m\u001b[0;34m'gyro_x'\u001b[0m\u001b[0;34m]\u001b[0m\u001b[0;34m,\u001b[0m \u001b[0mmarker\u001b[0m\u001b[0;34m=\u001b[0m\u001b[0;34m'*'\u001b[0m\u001b[0;34m,\u001b[0m\u001b[0mcolor\u001b[0m\u001b[0;34m=\u001b[0m\u001b[0;34m'k'\u001b[0m\u001b[0;34m)\u001b[0m\u001b[0;34m\u001b[0m\u001b[0;34m\u001b[0m\u001b[0m\n\u001b[0m\u001b[1;32m      3\u001b[0m \u001b[0max\u001b[0m\u001b[0;34m[\u001b[0m\u001b[0;36m0\u001b[0m\u001b[0;34m,\u001b[0m\u001b[0;36m0\u001b[0m\u001b[0;34m]\u001b[0m\u001b[0;34m.\u001b[0m\u001b[0mplot\u001b[0m\u001b[0;34m(\u001b[0m\u001b[0mmeas_ctrl\u001b[0m\u001b[0;34m.\u001b[0m\u001b[0mmeasurement\u001b[0m\u001b[0;34m.\u001b[0m\u001b[0massy_data_offset\u001b[0m\u001b[0;34m[\u001b[0m\u001b[0;34m'Time'\u001b[0m\u001b[0;34m]\u001b[0m\u001b[0;34m,\u001b[0m \u001b[0mmeas_ctrl\u001b[0m\u001b[0;34m.\u001b[0m\u001b[0mmeasurement\u001b[0m\u001b[0;34m.\u001b[0m\u001b[0massy_data_offset\u001b[0m\u001b[0;34m[\u001b[0m\u001b[0;34m'gyro_x'\u001b[0m\u001b[0;34m]\u001b[0m\u001b[0;34m,\u001b[0m \u001b[0mmarker\u001b[0m\u001b[0;34m=\u001b[0m\u001b[0;34m'*'\u001b[0m\u001b[0;34m,\u001b[0m\u001b[0mcolor\u001b[0m\u001b[0;34m=\u001b[0m\u001b[0;34m'r'\u001b[0m\u001b[0;34m)\u001b[0m\u001b[0;34m\u001b[0m\u001b[0;34m\u001b[0m\u001b[0m\n\u001b[1;32m      4\u001b[0m \u001b[0max\u001b[0m\u001b[0;34m[\u001b[0m\u001b[0;36m0\u001b[0m\u001b[0;34m,\u001b[0m\u001b[0;36m0\u001b[0m\u001b[0;34m]\u001b[0m\u001b[0;34m.\u001b[0m\u001b[0mset_xlabel\u001b[0m\u001b[0;34m(\u001b[0m\u001b[0;34m'Time[s]'\u001b[0m\u001b[0;34m)\u001b[0m\u001b[0;34m\u001b[0m\u001b[0;34m\u001b[0m\u001b[0m\n\u001b[1;32m      5\u001b[0m \u001b[0max\u001b[0m\u001b[0;34m[\u001b[0m\u001b[0;36m0\u001b[0m\u001b[0;34m,\u001b[0m\u001b[0;36m0\u001b[0m\u001b[0;34m]\u001b[0m\u001b[0;34m.\u001b[0m\u001b[0mset_ylabel\u001b[0m\u001b[0;34m(\u001b[0m\u001b[0;34m'Gyro_x(Roll Rate)[rad/s]'\u001b[0m\u001b[0;34m)\u001b[0m\u001b[0;34m\u001b[0m\u001b[0;34m\u001b[0m\u001b[0m\n",
      "\u001b[0;31mIndexError\u001b[0m: only integers, slices (`:`), ellipsis (`...`), numpy.newaxis (`None`) and integer or boolean arrays are valid indices"
     ]
    },
    {
     "data": {
      "image/png": "[encoded data removed]",
      "text/plain": [
       "<matplotlib.figure.Figure at 0x7f6d87a278>"
      ]
     },
     "metadata": {
      "needs_background": "light"
     },
     "output_type": "display_data"
    }
   ],
   "source": [
    "fig, ax = plt.subplots(3, 3, figsize=(12,8), tight_layout=True)\n",
    "ax[0,0].plot(meas_ctrl.measurement.assy_data['Time'], meas_ctrl.measurement.assy_data['gyro_x'], marker='*',color='k')\n",
    "ax[0,0].plot(meas_ctrl.measurement.assy_data_offset['Time'], meas_ctrl.measurement.assy_data_offset['gyro_x'], marker='*',color='r')\n",
    "ax[0,0].set_xlabel('Time[s]')\n",
    "ax[0,0].set_ylabel('Gyro_x(Roll Rate)[rad/s]')\n",
    "ax[0,1].plot(meas_ctrl.measurement.assy_data['Time'], meas_ctrl.measurement.assy_data['gyro_y'], marker='*', color='k')\n",
    "ax[0,1].plot(meas_ctrl.measurement.assy_data_offset['Time'], meas_ctrl.measurement.assy_data_offset['gyro_y'], marker='*',color='r')\n",
    "ax[0,1].set_xlabel('Time[s]')\n",
    "ax[0,1].set_ylabel('Gyro_y(Pitch Rate)[rad/s]')\n",
    "ax[0,2].plot(meas_ctrl.measurement.assy_data['Time'], meas_ctrl.measurement.assy_data['gyro_z'], marker='*',color='k')\n",
    "ax[0,2].plot(meas_ctrl.measurement.assy_data_offset['Time'], meas_ctrl.measurement.assy_data_offset['gyro_z'], marker='*',color='r')\n",
    "ax[0,2].set_xlabel('Time[s]')\n",
    "ax[0,2].set_ylabel('Gyro_z(Yaw Rate)[rad/s]')\n",
    "\n",
    "ax[1,0].plot(meas_ctrl.measurement.assy_data['Time'], meas_ctrl.measurement.assy_data['linear_accel_x'], marker='*', color='k')\n",
    "ax[1,0].plot(meas_ctrl.measurement.assy_data_offset['Time'], meas_ctrl.measurement.assy_data_offset['linear_accel_x'], marker='*', color='r')\n",
    "ax[1,0].plot(meas_ctrl.measurement.assy_data_filter['Time'], meas_ctrl.measurement.assy_data_filter['linear_accel_x'], marker='*', color='b')\n",
    "ax[1,0].set_xlabel('Time[s]')\n",
    "ax[1,0].set_ylabel('linear_accel_x[m/s^2]')\n",
    "ax[1,1].plot(meas_ctrl.measurement.assy_data['Time'], meas_ctrl.measurement.assy_data['linear_accel_y'], marker='*',color='k')\n",
    "ax[1,1].plot(meas_ctrl.measurement.assy_data_offset['Time'], meas_ctrl.measurement.assy_data_offset['linear_accel_y'], marker='*', color='r')\n",
    "ax[1,1].set_xlabel('Time[s]')\n",
    "ax[1,1].set_ylabel('linear_accel_y[m/s^2]')\n",
    "ax[1,2].plot(meas_ctrl.measurement.assy_data['Time'], meas_ctrl.measurement.assy_data['linear_accel_z'], marker='*',color='k')\n",
    "ax[1,2].plot(meas_ctrl.measurement.assy_data_offset['Time'], meas_ctrl.measurement.assy_data_offset['linear_accel_z'], marker='*', color='r')\n",
    "ax[1,2].set_xlabel('Time[s]')\n",
    "ax[1,2].set_ylabel('linear_accel_z[m/s^2]')\n",
    "\n",
    "ax[2,0].plot(meas_ctrl.measurement.assy_data['Time'], meas_ctrl.measurement.assy_data['Roll'], marker='*', color='k')\n",
    "ax[2,0].plot(meas_ctrl.measurement.assy_data_offset['Time'], meas_ctrl.measurement.assy_data_offset['Roll'], marker='*', color='r')\n",
    "ax[2,0].set_xlabel('Time[s]')\n",
    "ax[2,0].set_ylabel('Roll Angle[deg]')\n",
    "ax[2,1].plot(meas_ctrl.measurement.assy_data['Time'], meas_ctrl.measurement.assy_data['Pitch'], marker='*',color='k')\n",
    "ax[2,1].plot(meas_ctrl.measurement.assy_data_offset['Time'], meas_ctrl.measurement.assy_data_offset['Pitch'], marker='*',color='r')\n",
    "ax[2,1].set_xlabel('Time[s]')\n",
    "ax[2,1].set_ylabel('Pitch Angle[deg]')\n",
    "ax[2,2].plot(meas_ctrl.measurement.assy_data['Time'], meas_ctrl.measurement.assy_data['Yaw'], marker='*', color='k')\n",
    "ax[2,2].plot(meas_ctrl.measurement.assy_data_offset['Time'], meas_ctrl.measurement.assy_data_offset['Yaw'], marker='*', color='r')\n",
    "ax[2,2].plot(meas_ctrl.measurement.assy_data_filter['Time'], meas_ctrl.measurement.assy_data_filter['Yaw'], marker='*', color='b')\n",
    "ax[2,2].set_xlabel('Time[s]')\n",
    "ax[2,2].set_ylabel('Yaw Angle[deg]')"
   ]
  },
  {
   "cell_type": "code",
   "execution_count": 6,
   "metadata": {},
   "outputs": [
    {
     "data": {
      "text/plain": [
       "(496, 18)"
      ]
     },
     "execution_count": 6,
     "metadata": {},
     "output_type": "execute_result"
    }
   ],
   "source": [
    "meas_ctrl.measurement.assy_data.shape"
   ]
  },
  {
   "cell_type": "code",
   "execution_count": null,
   "metadata": {},
   "outputs": [],
   "source": []
  }
 ],
 "metadata": {
  "kernelspec": {
   "display_name": "Python 3",
   "language": "python",
   "name": "python3"
  },
  "language_info": {
   "codemirror_mode": {
    "name": "ipython",
    "version": 3
   },
   "file_extension": ".py",
   "mimetype": "text/x-python",
   "name": "python",
   "nbconvert_exporter": "python",
   "pygments_lexer": "ipython3",
   "version": "2.7.-1"
  },
  "vscode": {
   "interpreter": {
    "hash": "767d51c1340bd893661ea55ea3124f6de3c7a262a8b4abca0554b478b1e2ff90"
   }
  }
 },
 "nbformat": 4,
 "nbformat_minor": 4
}
