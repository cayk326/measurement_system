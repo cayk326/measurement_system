{
 "cells": [
  {
   "cell_type": "markdown",
   "metadata": {},
   "source": [
    "## 計測システムのプロトタイプ"
   ]
  },
  {
   "cell_type": "code",
   "execution_count": 1,
   "metadata": {},
   "outputs": [],
   "source": [
    "import adafruit_bno055\n",
    "import busio# I2C用のインターフェースを使用するためのモジュール\n",
    "import board\n",
    "\n",
    "import threading\n",
    "import time\n",
    "import numpy as np\n",
    "import pandas as pd\n",
    "import matplotlib.pyplot as plt\n",
    "import os\n",
    "path = os.getcwd()\n",
    "from IPython.display import display, clear_output\n",
    "from collections import deque\n",
    "from time import perf_counter\n",
    "import ipywidgets as widgets\n",
    "import time\n",
    "import threading\n",
    "import datetime\n"
   ]
  },
  {
   "cell_type": "code",
   "execution_count": 2,
   "metadata": {},
   "outputs": [],
   "source": [
    "class measuremet:\n",
    "    \n",
    "    def __init__(self, BNO_UPDATE_FREQUENCY_HZ=10, INTERVAL=1000):\n",
    "        \n",
    "        self.COLUMNS = [\"Time\",\"euler_x\", \"euler_y\", \"euler_z\", \"gyro_x\", \"gyro_y\", \"gyro_z\", \"gravity_x\", \"gravity_y\", \"gravity_z\",\n",
    "                        \"linear_accel_x\", \"linear_accel_y\", \"linear_accel_z\",\"accel_x\", \"accel_y\", \"accel_z\",\n",
    "                        \"quaternion_1\", \"quaternion_2\", \"quaternion_3\", \"quaternion_4\", \n",
    "                        \"calibstat_sys\", \"calibstat_gyro\", \"calibstat_accel\", \"calibstat_mag\"]\n",
    "    \n",
    "        self.BNO_UPDATE_FREQUENCY_HZ = BNO_UPDATE_FREQUENCY_HZ\n",
    "        self.exepath = path + '/measurement_system'\n",
    "        self.datapath = path + '/data'\n",
    "    \n",
    "    \n",
    "        self.INTERVAL = INTERVAL\n",
    "        self.INIT_LEN = self.INTERVAL // self.BNO_UPDATE_FREQUENCY_HZ\n",
    "\n",
    "        self.Time_data = deque(np.zeros(self.INIT_LEN))# Time\n",
    "        self.linear_accel_x_data = deque(np.zeros(self.INIT_LEN))# linear_accel_x\n",
    "        self.linear_accel_y_data = deque(np.zeros(self.INIT_LEN))# linear_accel_y\n",
    "        self.linear_accel_z_data = deque(np.zeros(self.INIT_LEN))# linear_accel_z\n",
    "        self.gyro_x_data = deque(np.zeros(self.INIT_LEN))# gyro_x\n",
    "        self.gyro_y_data = deque(np.zeros(self.INIT_LEN))# gyro_y\n",
    "        self.gyro_z_data = deque(np.zeros(self.INIT_LEN))# gyro_z\n",
    "        \n",
    "        self.assy_data = None\n",
    "        \n",
    "        self.i2c, self.bno = self.connect()\n",
    "\n",
    "            \n",
    "    def connect(self):\n",
    "        i2c = busio.I2C(board.SCL, board.SDA)# I2CBusにアクセスするためのインターフェースを用意。SCLとSDAを使ってアクセス\n",
    "        bno = adafruit_bno055.BNO055_I2C(i2c)# BNO055センサに接続する。DefaultではNDOF_MODE(12)\n",
    "        #self.bno.use_external_crystal = True\n",
    "        print(\"Established connection with BNO055\")\n",
    "        return i2c, bno\n",
    "    \n",
    "    def get_data(self, bno):\n",
    "        \n",
    "        '''\n",
    "        センサからある時点の値を抽出\n",
    "        '''\n",
    "            \n",
    "        euler_x, euler_y, euler_z = [val for val in bno.euler]# 角度[deg]\n",
    "        gyro_x, gyro_y, gyro_z = [val for val in bno.gyro]# 角速度[rad/s]\n",
    "        gravity_x, gravity_y, gravity_z = [val for val in bno.gravity]# 重力加速度[m/s^2]\n",
    "        linear_accel_x, linear_accel_y, linear_accel_z = [val for val in bno.linear_acceleration]# 重力分を差し引いた加速度[m/s^2]\n",
    "        accel_x, accel_y, accel_z = [val for val in bno.acceleration]# 重力+リニア加速度\n",
    "        quaternion_1, quaternion_2, quaternion_3, quaternion_4 = [val for val in bno.quaternion]# クオータニオン\n",
    "        calibstat_sys, calibstat_gyro, calibstat_accel, calibstat_mag = [val for val in bno.calibration_status]# キャリブレーション状態\n",
    "            \n",
    "        return euler_x, euler_y, euler_z, gyro_x, gyro_y, gyro_z, gravity_x, gravity_y, gravity_z,\\\n",
    "                linear_accel_x, linear_accel_y, linear_accel_z, accel_x, accel_y, accel_z,\\\n",
    "                quaternion_1, quaternion_2, quaternion_3, quaternion_4,\\\n",
    "                calibstat_sys, calibstat_gyro, calibstat_accel, calibstat_mag\n",
    "        \n",
    "    "
   ]
  },
  {
   "cell_type": "code",
   "execution_count": 3,
   "metadata": {},
   "outputs": [],
   "source": [
    "def wait_process(wait_sec):\n",
    "    until = perf_counter() + wait_sec\n",
    "    while perf_counter() < until:\n",
    "        pass\n",
    "    return"
   ]
  },
  {
   "cell_type": "code",
   "execution_count": 4,
   "metadata": {},
   "outputs": [],
   "source": [
    "\n",
    "\n",
    "class measurement_control:\n",
    "    def __init__(self, BNO_UPDATE_FREQUENCY_HZ = 10, Isautosave = True):\n",
    "        self.ctrlbutton_state = 'stop'# stop/start\n",
    "        self.ctrl_button = widgets.Button(description=\"▶\",layout=lay(120,50)) \n",
    "        self.save_button = widgets.Button(description=\"Save\",layout=lay(120,50))\n",
    "        self.output = widgets.Output(layour={'border': '1px solid black'})       \n",
    "        self.measurement = measuremet(BNO_UPDATE_FREQUENCY_HZ=BNO_UPDATE_FREQUENCY_HZ)\n",
    "        self.Isstart = False\n",
    "        self.start_thread = None\n",
    "        self.stop_thread = None\n",
    "        self.save_thread = None\n",
    "        self.buttonState = \"stop\"\n",
    "        self.elapsed_time = 0\n",
    "        self.itr_end_time = 0\n",
    "        self.logic_end_time = 0\n",
    "        self.logic_start_time = 0\n",
    "        self.itr_start_time = 0\n",
    "        self.Isautosave = Isautosave\n",
    "        \n",
    "    def start(self):\n",
    "        \n",
    "        self.Isstart = True\n",
    "        self.stop_thread = None\n",
    "        #print('Measurement Start')\n",
    "        self.ctrl_button.description = '■'\n",
    "        self.ctrl_button.button_style = 'success'\n",
    "        \n",
    "        \n",
    "        #データ計測ロジック\n",
    "        try:\n",
    "                  \n",
    "            #plt.ion()\n",
    "            #fig, ax = plt.subplots(3, 1, tight_layout=True)\n",
    "            #fig.set_figheight(8)\n",
    "            #fig.set_figwidth(12)\n",
    "\n",
    "            self.logic_start_time = time.time()#計測用\n",
    "            counter = 0\n",
    "            #self.logic_start_time = time.time()#計測用\n",
    "            \n",
    "            while self.Isstart:\n",
    "                self.itr_start_time = time.time()# ループの一番最初\n",
    "                Time = counter / self.measurement.BNO_UPDATE_FREQUENCY_HZ# 現在の時刻\n",
    "                \n",
    "                #Time, euler_x, euler_y, euler_z, gyro_x, gyro_y, gyro_z, gravity_x, gravity_y, gravity_z,\\\n",
    "                #linear_accel_x, linear_accel_y, linear_accel_z, accel_x, accel_y, accel_z,\\\n",
    "                #quaternion_1, quaternion_2, quaternion_3, quaternion_4,\\\n",
    "                #calibstat_sys, calibstat_gyro, calibstat_accel, calibstat_mag]\n",
    "                                 \n",
    "                #from IPython.core.debugger import Pdb; Pdb().set_trace()\n",
    "                data = np.array([Time] + list(self.measurement.get_data(self.measurement.bno))).reshape(-1, len(self.measurement.COLUMNS))#センサからデータを抽出しTimeの結合\n",
    "                \n",
    "                            \n",
    "                if counter == 0:\n",
    "                    \n",
    "                    self.measurement.assy_data = data.copy()\n",
    "\n",
    "                else: \n",
    "                    self.measurement.assy_data = np.concatenate((self.measurement.assy_data, data), axis = 0)# 行方向に結合\n",
    "\n",
    "                '''#グラフ化機構\n",
    "                if self.measurement.BNO_UPDATE_FREQUENCY_HZ <= 1.0:\n",
    "                \n",
    "                    #Queue operation               \n",
    "                    self.measurement.Time_data.popleft()\n",
    "                    self.measurement.linear_accel_x_data.popleft()\n",
    "                    self.measurement.linear_accel_y_data.popleft()\n",
    "                    self.measurement.linear_accel_z_data.popleft()\n",
    "                    self.measurement.gyro_x_data.popleft()\n",
    "                    self.measurement.gyro_y_data.popleft()\n",
    "                    self.measurement.gyro_z_data.popleft()\n",
    "                    \n",
    "                    self.measurement.Time_data.append(data[-1,0])\n",
    "                    self.measurement.linear_accel_x_data.append(data[-1,10])\n",
    "                    self.measurement.linear_accel_y_data.append(data[-1,11])\n",
    "                    self.measurement.linear_accel_z_data.append(data[-1,12])\n",
    "                    self.measurement.gyro_x_data.append(data[-1,4])\n",
    "                    self.measurement.gyro_y_data.append(data[-1,5])\n",
    "                    self.measurement.gyro_z_data.append(data[-1,6])         \n",
    "                    \n",
    "                    \n",
    "                    # Graph\n",
    "                    # 極力グラフを書くだけにとどめる\n",
    "                    #clear_output(wait = True)\n",
    "                    #plt.cla()\n",
    "                    #ax[0].plot(self.measurement.Time_data,self.measurement.linear_accel_x_data,linestyle='-', color='r', linewidth=1)\n",
    "                    #ax[1].plot(self.measurement.Time_data,self.measurement.linear_accel_y_data,linestyle='-', color='r', linewidth=1)\n",
    "                    #ax[2].plot(self.measurement.Time_data,np.rad2deg(self.measurement.gyro_z_data),linestyle='-', color='r', linewidth=1)# グラフ化の時はrad2degにしておく\n",
    "                    #display(fig)\n",
    "                '''\n",
    "                \n",
    "                self.itr_end_time = time.time()# ある関数が終わった直後\n",
    "   \n",
    "                wait_process((1.0 / self.measurement.BNO_UPDATE_FREQUENCY_HZ) - (self.itr_end_time - self.itr_start_time))\n",
    "                counter += 1\n",
    "\n",
    "            self.logic_end_time = time.time()\n",
    "            # 経過時間を出力(秒)\n",
    "            self.elapsed_time = self.logic_end_time - self.logic_start_time         \n",
    "            #print('elapsed_time:{0} s'.format(self.elapsed_time))#実行時間出力\n",
    "                            \n",
    "        except Exception as e:\n",
    "            self.logic_end_time = time.time()\n",
    "            # 経過時間を出力(秒)\n",
    "            self.elapsed_time = self.logic_end_time - self.logic_start_time\n",
    "            #print(self.elapsed_time)\n",
    "            print('Error! Save data')\n",
    "            self.save()\n",
    "            return\n",
    "\n",
    "        \n",
    "    def stop(self):\n",
    "        self.Isstart = False\n",
    "        self.start_thread = None\n",
    "        #print('Stop Measurement')\n",
    "        try:\n",
    "            if meas_ctrl.Isautosave:\n",
    "                self.save()\n",
    "            self.ctrl_button.description = '▶'\n",
    "            self.ctrl_button.button_style = ''\n",
    "        except Exception as e:\n",
    "            print('Error!')\n",
    "        \n",
    "        return\n",
    "\n",
    "    def save(self):\n",
    "        self.save_button.description = 'Saving...'\n",
    "        self.save_button.button_style = 'success'\n",
    "        self.measurement.assy_data = pd.DataFrame(self.measurement.assy_data, columns=list(self.measurement.COLUMNS))\n",
    "        \n",
    "        t_delta = datetime.timedelta(hours=9)\n",
    "        JST = datetime.timezone(t_delta, 'JST')\n",
    "        now = datetime.datetime.now(JST)\n",
    "        timestamp = now.strftime('%Y%m%d%H%M%S')\n",
    "        self.measurement.assy_data.to_csv(self.measurement.datapath + '/'+ timestamp +'_data.csv')\n",
    "        \n",
    "        wait_process(0.5)# for user friendly\n",
    "        \n",
    "        self.save_button.description = 'Save'\n",
    "        self.save_button.button_style = ''\n",
    "        self.save_thread = None\n",
    "\n",
    "\n",
    "    def Run(self):\n",
    "        @self.output.capture()\n",
    "        def on_click_ctrlbutton_callback(clicked_button: widgets.Button) -> None:\n",
    "            if self.ctrlbutton_state == 'stop':\n",
    "                if self.start_thread == None :\n",
    "                    self.ctrlbutton_state = 'start'\n",
    "                    self.start_thread = threading.Thread(target=self.start)\n",
    "                    self.start_thread.start()\n",
    "                \n",
    "            elif self.ctrlbutton_state == 'start':\n",
    "                if self.stop_thread == None :\n",
    "                    self.ctrlbutton_state = 'stop'\n",
    "                    self.stop_thread = threading.Thread(target=self.stop)\n",
    "                    self.stop_thread.start()\n",
    "                    \n",
    "        def on_click_savebutton_callback(clicked_button: widgets.Button) -> None:\n",
    "            if self.ctrlbutton_state == 'stop' and self.Isstart == False:\n",
    "                self.save_thread = threading.Thread(target=self.save)\n",
    "                self.save_thread.start()\n",
    "\n",
    "        self.ctrl_button.on_click(on_click_ctrlbutton_callback)\n",
    "        self.save_button.on_click(on_click_savebutton_callback)\n",
    "\n",
    "        \n",
    "def lay(width,height):\n",
    "    return widgets.Layout(width=str(width)+\"px\",height=str(height)+\"px\")\n",
    "def init_meas_system():\n",
    "    meas_ctrl = measurement_control(BNO_UPDATE_FREQUENCY_HZ=10, Isautosave=False)\n",
    "    display(widgets.VBox([\n",
    "            widgets.HBox([meas_ctrl.ctrl_button, meas_ctrl.save_button]), \n",
    "            meas_ctrl.output]))\n",
    "    return meas_ctrl\n",
    "def main_loop():\n",
    "    meas_ctrl = init_meas_system()\n",
    "    meas_ctrl.Run()\n",
    "    return meas_ctrl\n"
   ]
  },
  {
   "cell_type": "code",
   "execution_count": 9,
   "metadata": {},
   "outputs": [
    {
     "name": "stdout",
     "output_type": "stream",
     "text": [
      "Established connection with BNO055\n"
     ]
    },
    {
     "data": {
      "application/vnd.jupyter.widget-view+json": {
       "model_id": "27e0012246d942e29063cb0cc0804ef2",
       "version_major": 2,
       "version_minor": 0
      },
      "text/plain": [
       "VBox(children=(HBox(children=(Button(description='▶', layout=Layout(height='50px', width='120px'), style=Butto…"
      ]
     },
     "metadata": {},
     "output_type": "display_data"
    }
   ],
   "source": [
    "meas_ctrl = main_loop()"
   ]
  },
  {
   "cell_type": "code",
   "execution_count": 10,
   "metadata": {},
   "outputs": [
    {
     "data": {
      "text/plain": [
       "4.000413322448731"
      ]
     },
     "execution_count": 10,
     "metadata": {},
     "output_type": "execute_result"
    }
   ],
   "source": [
    "#meas_ctrl.elapsed_time\n",
    "# 計測ロジック全体の実行時間(データ出力を含まない)　データは0[s]からはじまるが、timeは0から始まらないので1サンプル分減算\n",
    "meas_ctrl.logic_end_time - meas_ctrl.logic_start_time - (1.0 / meas_ctrl.measurement.BNO_UPDATE_FREQUENCY_HZ)\n"
   ]
  },
  {
   "cell_type": "code",
   "execution_count": 220,
   "metadata": {},
   "outputs": [
    {
     "data": {
      "text/plain": [
       "0"
      ]
     },
     "execution_count": 220,
     "metadata": {},
     "output_type": "execute_result"
    }
   ],
   "source": [
    "meas_ctrl.itr_end_time - meas_ctrl.itr_start_time# センサからデータを1回得るための時間。この時間がサンプリングレートより小さくないといけない 0.04sほど\n"
   ]
  },
  {
   "cell_type": "code",
   "execution_count": 221,
   "metadata": {},
   "outputs": [
    {
     "data": {
      "text/plain": [
       "0.1"
      ]
     },
     "execution_count": 221,
     "metadata": {},
     "output_type": "execute_result"
    }
   ],
   "source": [
    "(1.0 / meas_ctrl.measurement.BNO_UPDATE_FREQUENCY_HZ) - (meas_ctrl.itr_end_time - meas_ctrl.itr_start_time)# 次のイタレーションを実行するまでの待ち時間"
   ]
  },
  {
   "cell_type": "code",
   "execution_count": 222,
   "metadata": {},
   "outputs": [
    {
     "data": {
      "text/plain": [
       "0.1"
      ]
     },
     "execution_count": 222,
     "metadata": {},
     "output_type": "execute_result"
    }
   ],
   "source": [
    "# センサーからデータを一回得るための時間＋次のイタレーションまでの待ち時間 = サンプリングレート[s]\n",
    "(meas_ctrl.itr_end_time - meas_ctrl.itr_start_time) + (1.0 / meas_ctrl.measurement.BNO_UPDATE_FREQUENCY_HZ) - (meas_ctrl.itr_end_time - meas_ctrl.itr_start_time)"
   ]
  },
  {
   "cell_type": "code",
   "execution_count": 223,
   "metadata": {},
   "outputs": [
    {
     "data": {
      "text/plain": [
       "0.1"
      ]
     },
     "execution_count": 223,
     "metadata": {},
     "output_type": "execute_result"
    }
   ],
   "source": [
    "(1.0 / meas_ctrl.measurement.BNO_UPDATE_FREQUENCY_HZ) # サンプリングレート[s]"
   ]
  },
  {
   "cell_type": "code",
   "execution_count": 224,
   "metadata": {},
   "outputs": [
    {
     "data": {
      "text/plain": [
       "0.00023245811462402344"
      ]
     },
     "execution_count": 224,
     "metadata": {},
     "output_type": "execute_result"
    }
   ],
   "source": [
    "# time関数の実行時間は0.00107sほど\n",
    "start = time.time()\n",
    "time.time()\n",
    "end = time.time()\n",
    "end - start\n"
   ]
  },
  {
   "cell_type": "code",
   "execution_count": 225,
   "metadata": {},
   "outputs": [
    {
     "name": "stdout",
     "output_type": "stream",
     "text": [
      "計測停止ボタンが押されました\n"
     ]
    },
    {
     "data": {
      "text/plain": [
       "0.0009047985076904297"
      ]
     },
     "execution_count": 225,
     "metadata": {},
     "output_type": "execute_result"
    }
   ],
   "source": [
    "# print関数の実行時間は0.00138sほど\n",
    "start = time.time()\n",
    "print(\"計測停止ボタンが押されました\")\n",
    "end = time.time()\n",
    "end - start\n"
   ]
  },
  {
   "cell_type": "code",
   "execution_count": 226,
   "metadata": {},
   "outputs": [
    {
     "data": {
      "text/plain": [
       "0.0002639293670654297"
      ]
     },
     "execution_count": 226,
     "metadata": {},
     "output_type": "execute_result"
    }
   ],
   "source": [
    "# クラスメンバへのアクセスの実行時間は0.000206sほど\n",
    "start = time.time()\n",
    "meas_ctrl.measurement.BNO_UPDATE_FREQUENCY_HZ\n",
    "end = time.time()\n",
    "end - start"
   ]
  }
 ],
 "metadata": {
  "interpreter": {
   "hash": "31f2aee4e71d21fbe5cf8b01ff0e069b9275f58929596ceb00d14d90e3e16cd6"
  },
  "kernelspec": {
   "display_name": "Python 3 (ipykernel)",
   "language": "python",
   "name": "python3"
  },
  "language_info": {
   "codemirror_mode": {
    "name": "ipython",
    "version": 3
   },
   "file_extension": ".py",
   "mimetype": "text/x-python",
   "name": "python",
   "nbconvert_exporter": "python",
   "pygments_lexer": "ipython3",
   "version": "3.6.9"
  }
 },
 "nbformat": 4,
 "nbformat_minor": 4
}
