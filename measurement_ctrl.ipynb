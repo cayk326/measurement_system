{
 "cells": [
  {
   "cell_type": "code",
   "execution_count": 1,
   "metadata": {},
   "outputs": [],
   "source": [
    "%matplotlib notebook"
   ]
  },
  {
   "cell_type": "code",
   "execution_count": 2,
   "metadata": {},
   "outputs": [],
   "source": [
    "# import libraries\n",
    "import threading\n",
    "import time\n",
    "import numpy as np\n",
    "import pandas as pd\n",
    "import matplotlib.pyplot as plt\n",
    "from IPython.display import display, clear_output\n",
    "import ipywidgets as widgets\n",
    "import datetime\n",
    "from concurrent.futures import ThreadPoolExecutor\n",
    "import sys"
   ]
  },
  {
   "cell_type": "code",
   "execution_count": 3,
   "metadata": {},
   "outputs": [],
   "source": [
    "# import models\n",
    "from models.tools import wait_process\n",
    "from models import signalprocessing as sp\n",
    "from models import measurement_BNO055"
   ]
  },
  {
   "cell_type": "code",
   "execution_count": 4,
   "metadata": {},
   "outputs": [],
   "source": [
    "# Properties\n",
    "Isneed_calib = False"
   ]
  },
  {
   "cell_type": "code",
   "execution_count": 5,
   "metadata": {},
   "outputs": [],
   "source": [
    "class measurement_controller:\n",
    "    def __init__(self, BNO_UPDATE_FREQUENCY_HZ = 10, seq_len=1000, Isautosave = True):\n",
    "        self.ctrlbutton_state = 'stop'# stop/start\n",
    "        self.ctrl_button = widgets.Button(description=\"▶\",layout=lay(120,50)) \n",
    "        self.save_button = widgets.Button(description=\"Save\",layout=lay(120,50))\n",
    "        self.calib_button = widgets.Button(description=\"Calib\",layout=lay(120,50))\n",
    "        \n",
    "        \n",
    "        self.output = widgets.Output(layour={'border': '1px solid black'})       \n",
    "        self.measurement = measurement_BNO055(BNO_UPDATE_FREQUENCY_HZ=10, seq_len=1000)\n",
    "        self.start_thread = None\n",
    "        self.stop_thread = None\n",
    "        self.save_thread = None\n",
    "        self.calib_thread = None\n",
    "        self.buttonState = \"stop\"\n",
    "        self.Isautosave = Isautosave\n",
    "        \n",
    "    def start(self):\n",
    "        \n",
    "        self.stop_thread = None\n",
    "        self.measurement.IsStart = True\n",
    "        self.ctrl_button.description = '■'\n",
    "        self.ctrl_button.button_style = 'success'\n",
    "        print('Measurement will be Started...')\n",
    "        self.measurement.meas_start()\n",
    "       \n",
    "        \n",
    "        \n",
    "        \n",
    "        \n",
    "    def stop(self):\n",
    "        self.measurement.IsStop = True\n",
    "        self.measurement.IsStart = False\n",
    "        self.start_thread = None\n",
    "        self.ctrl_button.description = '▶'\n",
    "        self.ctrl_button.button_style = ''\n",
    "        try:\n",
    "            if self.Isautosave:\n",
    "                self.save()\n",
    "            self.ctrl_button.description = '▶'\n",
    "            self.ctrl_button.button_style = ''\n",
    "        except Exception as e:\n",
    "            print('Error!')\n",
    "        \n",
    "        return\n",
    "\n",
    "    def save(self):\n",
    "        try:\n",
    "            self.save_button.description = 'Saving...'\n",
    "            self.save_button.button_style = 'success'\n",
    "            self.measurement.save_data()\n",
    "            \n",
    "            wait_process(1)# For user friendly\n",
    "            \n",
    "            self.save_button.description = 'Save'\n",
    "            self.save_button.button_style = ''\n",
    "            self.save_thread = None\n",
    "        except Exception:\n",
    "            pass\n",
    "\n",
    "    def get_calib_stat(self):\n",
    "        self.measurement.calibration()\n",
    "\n",
    "\n",
    "    def Run(self):\n",
    "        #@self.output.capture()\n",
    "        def on_click_ctrlbutton_callback(clicked_button: widgets.Button) -> None:\n",
    "            if self.ctrlbutton_state == 'stop':\n",
    "                if self.start_thread == None :\n",
    "                    self.ctrlbutton_state = 'start'\n",
    "                    self.start_thread = threading.Thread(target=self.start)\n",
    "                    self.start_thread.start()\n",
    "                \n",
    "            elif self.ctrlbutton_state == 'start':\n",
    "                if self.stop_thread == None :\n",
    "                    self.ctrlbutton_state = 'stop'\n",
    "                    self.stop_thread = threading.Thread(target=self.stop)\n",
    "                    self.stop_thread.start()\n",
    "                    \n",
    "        def on_click_savebutton_callback(clicked_button: widgets.Button) -> None:\n",
    "            if self.ctrlbutton_state == 'stop' and self.measurement.IsStart == False:\n",
    "                self.save_thread = threading.Thread(target=self.save)\n",
    "                self.save_thread.start()\n",
    "        \n",
    "        @self.output.capture()\n",
    "        def on_click_calibbutton_callback(clicked_button: widgets.Button) -> None:\n",
    "            if self.ctrlbutton_state == 'stop' and self.measurement.IsStart  == False:\n",
    "                self.get_calib_stat()\n",
    "        \n",
    "            \n",
    "\n",
    "        self.calib_button.on_click(on_click_calibbutton_callback)\n",
    "        self.ctrl_button.on_click(on_click_ctrlbutton_callback)\n",
    "        self.save_button.on_click(on_click_savebutton_callback)\n",
    "\n",
    "\n",
    "    def show_historicalgraph(self, mode=\"gyro\"):\n",
    "        fig, ax = plt.subplots(1, 3, figsize=(12,8), tight_layout=True)\n",
    "        if mode == \"gyro\":\n",
    "            ax[0].plot(self.measurement.df['Time'], self.measurement.df['gyro_x'], marker='*')\n",
    "            ax[1].plot(self.measurement.df['Time'], self.measurement.df['gyro_y'], marker='*')\n",
    "            ax[2].plot(self.measurement.df['Time'], self.measurement.df['gyro_z'], marker='*')\n",
    "        if mode == \"euler\":\n",
    "            ax[0].plot(self.measurement.df['Time'], self.measurement.df['euler_x'], marker='*')\n",
    "            ax[1].plot(self.measurement.df['Time'], self.measurement.df['euler_y'], marker='*')\n",
    "            ax[2].plot(self.measurement.df['Time'], self.measurement.df['euler_z'], marker='*')\n",
    "\n",
    "\n",
    "\n",
    "        \n",
    "def lay(width,height):\n",
    "    return widgets.Layout(width=str(width)+\"px\",height=str(height)+\"px\")\n",
    "def init_meas_system():\n",
    "    meas_ctrl = measurement_controller(BNO_UPDATE_FREQUENCY_HZ=10, seq_len=1000, Isautosave=False)\n",
    "    display(widgets.VBox([\n",
    "            widgets.HBox([meas_ctrl.ctrl_button, meas_ctrl.save_button, meas_ctrl.calib_button, ]), \n",
    "            meas_ctrl.output]))\n",
    "\n",
    "\n",
    "    return meas_ctrl\n",
    "def main_loop():\n",
    "    meas_ctrl = init_meas_system()\n",
    "    meas_ctrl.Run()\n",
    "    return meas_ctrl\n"
   ]
  },
  {
   "cell_type": "code",
   "execution_count": 6,
   "metadata": {},
   "outputs": [
    {
     "data": {
      "application/vnd.jupyter.widget-view+json": {
       "model_id": "4ede17d12e634858a2b60c96bb899621",
       "version_major": 2,
       "version_minor": 0
      },
      "text/plain": [
       "VBox(children=(HBox(children=(Button(description='▶', layout=Layout(height='50px', width='120px'), style=Butto…"
      ]
     },
     "metadata": {},
     "output_type": "display_data"
    },
    {
     "name": "stdout",
     "output_type": "stream",
     "text": [
      "Measurement will be Started...\n",
      "Measurement is started\n",
      "Finish\n",
      "Dataframe was saved!\n"
     ]
    }
   ],
   "source": [
    "meas_ctrl = main_loop()"
   ]
  }
 ],
 "metadata": {
  "kernelspec": {
   "display_name": ".venv39",
   "language": "python",
   "name": "python3"
  },
  "language_info": {
   "codemirror_mode": {
    "name": "ipython",
    "version": 3
   },
   "file_extension": ".py",
   "mimetype": "text/x-python",
   "name": "python",
   "nbconvert_exporter": "python",
   "pygments_lexer": "ipython3",
   "version": "3.9.16"
  },
  "orig_nbformat": 4,
  "vscode": {
   "interpreter": {
    "hash": "37cdf105429e27c89ce72a7e0a671077a9b7a29fadfca98ee68f2fe62551e2c0"
   }
  }
 },
 "nbformat": 4,
 "nbformat_minor": 2
}
